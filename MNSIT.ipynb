{
 "cells": [
  {
   "cell_type": "code",
   "execution_count": 6,
   "metadata": {},
   "outputs": [
    {
     "name": "stdout",
     "output_type": "stream",
     "text": [
      "Wed May 29 16:23:15 2024       \n",
      "+-----------------------------------------------------------------------------------------+\n",
      "| NVIDIA-SMI 555.85                 Driver Version: 555.85         CUDA Version: 12.5     |\n",
      "|-----------------------------------------+------------------------+----------------------+\n",
      "| GPU  Name                  Driver-Model | Bus-Id          Disp.A | Volatile Uncorr. ECC |\n",
      "| Fan  Temp   Perf          Pwr:Usage/Cap |           Memory-Usage | GPU-Util  Compute M. |\n",
      "|                                         |                        |               MIG M. |\n",
      "|=========================================+========================+======================|\n",
      "|   0  NVIDIA GeForce RTX 3060 ...  WDDM  |   00000000:01:00.0 Off |                  N/A |\n",
      "| N/A   42C    P3             18W /   55W |       0MiB /   6144MiB |      0%      Default |\n",
      "|                                         |                        |                  N/A |\n",
      "+-----------------------------------------+------------------------+----------------------+\n",
      "                                                                                         \n",
      "+-----------------------------------------------------------------------------------------+\n",
      "| Processes:                                                                              |\n",
      "|  GPU   GI   CI        PID   Type   Process name                              GPU Memory |\n",
      "|        ID   ID                                                               Usage      |\n",
      "|=========================================================================================|\n",
      "|  No running processes found                                                             |\n",
      "+-----------------------------------------------------------------------------------------+\n"
     ]
    }
   ],
   "source": [
    "!nvidia-smi"
   ]
  },
  {
   "cell_type": "code",
   "execution_count": 7,
   "metadata": {},
   "outputs": [],
   "source": [
    "#Importing modules\n",
    "import numpy as np\n",
    "import  torch\n",
    "from torch.utils.data import DataLoader, Dataset\n",
    "from torchvision import datasets\n",
    "from torchvision.transforms import ToTensor\n",
    "import matplotlib.pyplot as plt\n",
    "from torch import nn\n",
    "import torch.optim as optim\n",
    "import tensorflow as tf"
   ]
  },
  {
   "cell_type": "code",
   "execution_count": 8,
   "metadata": {},
   "outputs": [
    {
     "name": "stdout",
     "output_type": "stream",
     "text": [
      "cuda\n"
     ]
    }
   ],
   "source": [
    "device = torch.device(\"cuda\" if torch.cuda.is_available() else \"cpu\")\n",
    "print(device)"
   ]
  },
  {
   "cell_type": "code",
   "execution_count": 9,
   "metadata": {},
   "outputs": [],
   "source": [
    "training_data = datasets.MNIST(\n",
    "    root=\"data\",\n",
    "    train=True,\n",
    "    download=True,\n",
    "    transform=ToTensor()\n",
    ")\n",
    "\n",
    "test_data = datasets.MNIST(\n",
    "    root=\"data\",\n",
    "    train=False,\n",
    "    download=True,\n",
    "    transform=ToTensor()\n",
    ")"
   ]
  },
  {
   "cell_type": "code",
   "execution_count": 10,
   "metadata": {},
   "outputs": [],
   "source": [
    "#Feed forward Neural Network\n",
    "class FeedForwardNN(nn.Module):\n",
    "    def __init__(self):\n",
    "        super(FeedForwardNN, self).__init__()\n",
    "        self.flatten = nn.Flatten()\n",
    "        self.linear_relu_stack = nn.Sequential(\n",
    "            nn.Linear(28*28, 128),\n",
    "            nn.ReLU(),\n",
    "            nn.Linear(128,64),\n",
    "            nn.ReLU(),\n",
    "            nn.Linear(64, 32),\n",
    "            nn.ReLU(),\n",
    "            nn.Linear(32, 32),\n",
    "            nn.ReLU(),\n",
    "            nn.Linear(32, 10)\n",
    "        )\n",
    "    def forward(self, x):\n",
    "        x = self.flatten(x)\n",
    "        logits = self.linear_relu_stack(x)\n",
    "        return logits\n",
    "\n",
    "model = FeedForwardNN().to(device=device)\n",
    "loss_func = nn.CrossEntropyLoss()\n",
    "optimizer = optim.SGD(model.parameters(), lr=0.0003)\n"
   ]
  },
  {
   "cell_type": "code",
   "execution_count": 11,
   "metadata": {},
   "outputs": [],
   "source": [
    "# Training the model\n",
    "def train(model, train_loader, loss_func, optimizer):\n",
    "      batch_loss = 0.0\n",
    "      correct = 0\n",
    "      total = 0\n",
    "      model.train()\n",
    "      for data in train_loader:\n",
    "          inputs, labels = data\n",
    "          inputs, labels = inputs.to(device) , labels.to(device)\n",
    "          optimizer.zero_grad()\n",
    "          outputs = model(inputs)\n",
    "          loss = loss_func(outputs, labels)\n",
    "          loss.backward()\n",
    "          optimizer.step()\n",
    "\n",
    "          batch_loss += loss.item()\n",
    "          predicted_val, predicted_indices = torch.max(outputs.data, 1)\n",
    "          total += labels.size(0)\n",
    "          correct += (predicted_indices == labels).sum().item()\n",
    "\n",
    "      epoch_loss = batch_loss / total\n",
    "      epoch_acc = correct / total\n",
    "      return epoch_loss, epoch_acc\n",
    "\n",
    "def validate(model, loader, loss_func):\n",
    "    model.eval()\n",
    "    batch_loss = 0.0\n",
    "    correct = 0\n",
    "    total = 0\n",
    "    with torch.no_grad():\n",
    "        for inputs, labels in loader:\n",
    "            inputs, labels = inputs.to(device) , labels.to(device)\n",
    "            outputs = model(inputs)\n",
    "            loss = loss_func(outputs, labels)\n",
    "            batch_loss += loss.item() * inputs.size(0)\n",
    "            predicted_val, predicted_indices = torch.max(outputs.data, 1)\n",
    "            total += labels.size(0)\n",
    "            correct += (predicted_indices == labels).sum().item()\n",
    "\n",
    "    epoch_loss = batch_loss / total\n",
    "    epoch_acc = correct / total\n",
    "    return epoch_loss, epoch_acc"
   ]
  },
  {
   "cell_type": "code",
   "execution_count": 13,
   "metadata": {},
   "outputs": [
    {
     "name": "stdout",
     "output_type": "stream",
     "text": [
      "Epoch 1/60, Train Loss: 0.0180, Train Acc: 0.0987, Val Loss: 2.3051, Val Acc: 0.0980\n",
      "Epoch 2/60, Train Loss: 0.0180, Train Acc: 0.0987, Val Loss: 2.3048, Val Acc: 0.0980\n",
      "Epoch 3/60, Train Loss: 0.0180, Train Acc: 0.0987, Val Loss: 2.3046, Val Acc: 0.0980\n",
      "Epoch 4/60, Train Loss: 0.0180, Train Acc: 0.0987, Val Loss: 2.3043, Val Acc: 0.0980\n",
      "Epoch 5/60, Train Loss: 0.0180, Train Acc: 0.0987, Val Loss: 2.3041, Val Acc: 0.0980\n",
      "Epoch 6/60, Train Loss: 0.0180, Train Acc: 0.0987, Val Loss: 2.3038, Val Acc: 0.0980\n",
      "Epoch 7/60, Train Loss: 0.0180, Train Acc: 0.0987, Val Loss: 2.3036, Val Acc: 0.0980\n",
      "Epoch 8/60, Train Loss: 0.0180, Train Acc: 0.0987, Val Loss: 2.3034, Val Acc: 0.0980\n",
      "Epoch 9/60, Train Loss: 0.0180, Train Acc: 0.0987, Val Loss: 2.3031, Val Acc: 0.0980\n",
      "Epoch 10/60, Train Loss: 0.0180, Train Acc: 0.0987, Val Loss: 2.3029, Val Acc: 0.0980\n",
      "Epoch 11/60, Train Loss: 0.0180, Train Acc: 0.0987, Val Loss: 2.3027, Val Acc: 0.0980\n",
      "Epoch 12/60, Train Loss: 0.0180, Train Acc: 0.0987, Val Loss: 2.3025, Val Acc: 0.0980\n",
      "Epoch 13/60, Train Loss: 0.0180, Train Acc: 0.0987, Val Loss: 2.3023, Val Acc: 0.0980\n",
      "Epoch 14/60, Train Loss: 0.0180, Train Acc: 0.0987, Val Loss: 2.3021, Val Acc: 0.0980\n",
      "Epoch 15/60, Train Loss: 0.0180, Train Acc: 0.0987, Val Loss: 2.3019, Val Acc: 0.0980\n",
      "Epoch 16/60, Train Loss: 0.0180, Train Acc: 0.0987, Val Loss: 2.3016, Val Acc: 0.0980\n",
      "Epoch 17/60, Train Loss: 0.0180, Train Acc: 0.0987, Val Loss: 2.3014, Val Acc: 0.0980\n",
      "Epoch 18/60, Train Loss: 0.0180, Train Acc: 0.0987, Val Loss: 2.3012, Val Acc: 0.0980\n",
      "Epoch 19/60, Train Loss: 0.0180, Train Acc: 0.0987, Val Loss: 2.3010, Val Acc: 0.0980\n",
      "Epoch 20/60, Train Loss: 0.0180, Train Acc: 0.0987, Val Loss: 2.3008, Val Acc: 0.0980\n",
      "Epoch 21/60, Train Loss: 0.0180, Train Acc: 0.0987, Val Loss: 2.3006, Val Acc: 0.0980\n",
      "Epoch 22/60, Train Loss: 0.0180, Train Acc: 0.0987, Val Loss: 2.3005, Val Acc: 0.0980\n",
      "Epoch 23/60, Train Loss: 0.0180, Train Acc: 0.0987, Val Loss: 2.3003, Val Acc: 0.0980\n",
      "Epoch 24/60, Train Loss: 0.0180, Train Acc: 0.0987, Val Loss: 2.3001, Val Acc: 0.0980\n",
      "Epoch 25/60, Train Loss: 0.0180, Train Acc: 0.0987, Val Loss: 2.2999, Val Acc: 0.0980\n",
      "Epoch 26/60, Train Loss: 0.0180, Train Acc: 0.0987, Val Loss: 2.2997, Val Acc: 0.0980\n",
      "Epoch 27/60, Train Loss: 0.0180, Train Acc: 0.0987, Val Loss: 2.2995, Val Acc: 0.0980\n",
      "Epoch 28/60, Train Loss: 0.0180, Train Acc: 0.0987, Val Loss: 2.2993, Val Acc: 0.0980\n",
      "Epoch 29/60, Train Loss: 0.0180, Train Acc: 0.0987, Val Loss: 2.2991, Val Acc: 0.0980\n",
      "Epoch 30/60, Train Loss: 0.0180, Train Acc: 0.0987, Val Loss: 2.2989, Val Acc: 0.0980\n",
      "Epoch 31/60, Train Loss: 0.0180, Train Acc: 0.0987, Val Loss: 2.2987, Val Acc: 0.0980\n",
      "Epoch 32/60, Train Loss: 0.0180, Train Acc: 0.0987, Val Loss: 2.2985, Val Acc: 0.0980\n",
      "Epoch 33/60, Train Loss: 0.0180, Train Acc: 0.0987, Val Loss: 2.2983, Val Acc: 0.0980\n",
      "Epoch 34/60, Train Loss: 0.0180, Train Acc: 0.0987, Val Loss: 2.2981, Val Acc: 0.0980\n",
      "Epoch 35/60, Train Loss: 0.0180, Train Acc: 0.0987, Val Loss: 2.2979, Val Acc: 0.0980\n",
      "Epoch 36/60, Train Loss: 0.0180, Train Acc: 0.0987, Val Loss: 2.2977, Val Acc: 0.0980\n",
      "Epoch 37/60, Train Loss: 0.0180, Train Acc: 0.0987, Val Loss: 2.2975, Val Acc: 0.0980\n",
      "Epoch 38/60, Train Loss: 0.0180, Train Acc: 0.0987, Val Loss: 2.2973, Val Acc: 0.0980\n",
      "Epoch 39/60, Train Loss: 0.0180, Train Acc: 0.1002, Val Loss: 2.2971, Val Acc: 0.1059\n",
      "Epoch 40/60, Train Loss: 0.0180, Train Acc: 0.1300, Val Loss: 2.2969, Val Acc: 0.1605\n",
      "Epoch 41/60, Train Loss: 0.0180, Train Acc: 0.1804, Val Loss: 2.2967, Val Acc: 0.1923\n",
      "Epoch 42/60, Train Loss: 0.0180, Train Acc: 0.1980, Val Loss: 2.2965, Val Acc: 0.2034\n",
      "Epoch 43/60, Train Loss: 0.0180, Train Acc: 0.2050, Val Loss: 2.2962, Val Acc: 0.2073\n",
      "Epoch 44/60, Train Loss: 0.0180, Train Acc: 0.2077, Val Loss: 2.2960, Val Acc: 0.2087\n",
      "Epoch 45/60, Train Loss: 0.0179, Train Acc: 0.2084, Val Loss: 2.2958, Val Acc: 0.2091\n",
      "Epoch 46/60, Train Loss: 0.0179, Train Acc: 0.2080, Val Loss: 2.2956, Val Acc: 0.2082\n",
      "Epoch 47/60, Train Loss: 0.0179, Train Acc: 0.2071, Val Loss: 2.2953, Val Acc: 0.2070\n",
      "Epoch 48/60, Train Loss: 0.0179, Train Acc: 0.2052, Val Loss: 2.2951, Val Acc: 0.2049\n",
      "Epoch 49/60, Train Loss: 0.0179, Train Acc: 0.2034, Val Loss: 2.2948, Val Acc: 0.2025\n",
      "Epoch 50/60, Train Loss: 0.0179, Train Acc: 0.2009, Val Loss: 2.2946, Val Acc: 0.1997\n",
      "Epoch 51/60, Train Loss: 0.0179, Train Acc: 0.1968, Val Loss: 2.2943, Val Acc: 0.1980\n",
      "Epoch 52/60, Train Loss: 0.0179, Train Acc: 0.1945, Val Loss: 2.2941, Val Acc: 0.1953\n",
      "Epoch 53/60, Train Loss: 0.0179, Train Acc: 0.1920, Val Loss: 2.2938, Val Acc: 0.1923\n",
      "Epoch 54/60, Train Loss: 0.0179, Train Acc: 0.1886, Val Loss: 2.2935, Val Acc: 0.1891\n",
      "Epoch 55/60, Train Loss: 0.0179, Train Acc: 0.1861, Val Loss: 2.2933, Val Acc: 0.1873\n",
      "Epoch 56/60, Train Loss: 0.0179, Train Acc: 0.1833, Val Loss: 2.2930, Val Acc: 0.1855\n",
      "Epoch 57/60, Train Loss: 0.0179, Train Acc: 0.1807, Val Loss: 2.2927, Val Acc: 0.1835\n",
      "Epoch 58/60, Train Loss: 0.0179, Train Acc: 0.1781, Val Loss: 2.2924, Val Acc: 0.1817\n",
      "Epoch 59/60, Train Loss: 0.0179, Train Acc: 0.1758, Val Loss: 2.2921, Val Acc: 0.1789\n",
      "Epoch 60/60, Train Loss: 0.0179, Train Acc: 0.1746, Val Loss: 2.2917, Val Acc: 0.1774\n"
     ]
    }
   ],
   "source": [
    "test_loader = DataLoader(test_data, batch_size=128, shuffle=False)\n",
    "\n",
    "# Train and validate\n",
    "num_epochs = 60\n",
    "train_losses, train_accuracies = [], []\n",
    "val_losses, val_accuracies = [], []\n",
    "\n",
    "for epoch in range(num_epochs):\n",
    "    train_loader = DataLoader(training_data, batch_size=128, shuffle=True)\n",
    "    train_loss, train_acc = train(model, train_loader, loss_func, optimizer)\n",
    "    val_loss, val_acc = validate(model, test_loader, loss_func)\n",
    "\n",
    "    train_losses.append(train_loss)\n",
    "    train_accuracies.append(train_acc)\n",
    "    val_losses.append(val_loss)\n",
    "    val_accuracies.append(val_acc)\n",
    "\n",
    "    print(f'Epoch {epoch+1}/{num_epochs}, Train Loss: {train_loss:.4f}, Train Acc: {train_acc:.4f}, Val Loss: {val_loss:.4f}, Val Acc: {val_acc:.4f}')"
   ]
  },
  {
   "cell_type": "code",
   "execution_count": null,
   "metadata": {},
   "outputs": [
    {
     "data": {
      "image/png": "[encoded data removed]",
      "text/plain": [
       "<Figure size 640x480 with 1 Axes>"
      ]
     },
     "metadata": {},
     "output_type": "display_data"
    }
   ],
   "source": [
    "epochs = range(1, num_epochs + 1)\n",
    "plt.plot(epochs, train_accuracies, 'b', label='Train Accuracy')\n",
    "plt.plot(epochs, val_accuracies, 'r', label='Validation Accuracy')\n",
    "plt.title('Train and Validation Accuracies')\n",
    "plt.xlabel('Epochs')\n",
    "plt.ylabel('Accuracy')\n",
    "plt.legend()\n",
    "plt.show()"
   ]
  }
 ],
 "metadata": {
  "kernelspec": {
   "display_name": "base",
   "language": "python",
   "name": "python3"
  },
  "language_info": {
   "codemirror_mode": {
    "name": "ipython",
    "version": 3
   },
   "file_extension": ".py",
   "mimetype": "text/x-python",
   "name": "python",
   "nbconvert_exporter": "python",
   "pygments_lexer": "ipython3",
   "version": "3.11.5"
  }
 },
 "nbformat": 4,
 "nbformat_minor": 2
}
