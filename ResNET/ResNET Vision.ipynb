{
 "cells": [
  {
   "cell_type": "code",
   "execution_count": 53,
   "metadata": {},
   "outputs": [],
   "source": [
    "import numpy as np\n",
    "import  torch\n",
    "from torch.utils.data import DataLoader, Dataset\n",
    "from torchvision import datasets\n",
    "from torchvision.transforms import ToTensor\n",
    "import matplotlib.pyplot as plt\n",
    "from torch import nn\n",
    "import torch.optim as optim\n",
    "import tensorflow as tf"
   ]
  },
  {
   "cell_type": "code",
   "execution_count": 54,
   "metadata": {},
   "outputs": [
    {
     "name": "stdout",
     "output_type": "stream",
     "text": [
      "cuda\n"
     ]
    }
   ],
   "source": [
    "device = torch.device('cuda' if torch.cuda.is_available() else 'cpu')\n",
    "print(device)"
   ]
  },
  {
   "cell_type": "code",
   "execution_count": 55,
   "metadata": {},
   "outputs": [],
   "source": [
    "class Block(nn.Module):\n",
    "  expansion = 1\n",
    "  def __init__(self, in_channels, out_channels, i_downsample=None, stride=1):\n",
    "    super(Block, self).__init__()\n",
    "\n",
    "    self.conv1 = nn.Conv2d(in_channels, out_channels, kernel_size=3, padding=1, stride=stride, bias=False)\n",
    "    self.batch_norm1 = nn.BatchNorm2d(out_channels)\n",
    "    self.conv2 = nn.Conv2d(out_channels, out_channels, kernel_size=3, padding=1, stride=stride, bias=False)\n",
    "    self.batch_norm2 = nn.BatchNorm2d(out_channels)\n",
    "\n",
    "    self.i_downsample = i_downsample\n",
    "    self.stride = stride\n",
    "    self.relu = nn.ReLU()\n",
    "\n",
    "  def forward(self, x):\n",
    "    residual = x\n",
    "    out = self.conv1(x)\n",
    "    out = self.conv2(out)\n",
    "    if self.i_downsample:\n",
    "        residual = self.i_downsample(x)\n",
    "    out += residual\n",
    "    out = self.relu(out)\n",
    "    return out\n",
    "\n",
    "\n",
    "class ResNet_vision(nn.Module):\n",
    "  def __init__(self, in_channels=3, num_classes=10):\n",
    "    super(ResNet_vision, self).__init__()\n",
    "    self.in_channels = in_channels\n",
    "    self.num_classes = num_classes\n",
    "\n",
    "    # First convolution layer (assuming you don't need initial processing)\n",
    "    self.conv1 = nn.Conv2d(self.in_channels, 64, kernel_size=7, stride=2, padding=3, bias=False)\n",
    "    self.batch_norm1 = nn.BatchNorm2d(64)\n",
    "    self.relu = nn.ReLU()\n",
    "\n",
    "    # Stack of 18 residual blocks\n",
    "    self.blocks = nn.Sequential(*[Block(64,64) for _ in range(18)])\n",
    "\n",
    "    # Average pooling and fully connected layer\n",
    "    self.avgpool = nn.AdaptiveAvgPool2d((1, 1))\n",
    "    self.fc = nn.Linear(64, self.num_classes)  # 4 for output channels after 18 blocks\n",
    "\n",
    "  def forward(self, x):\n",
    "    x = self.conv1(x)\n",
    "    x = self.batch_norm1(x)\n",
    "    x = self.relu(x)\n",
    "\n",
    "    x = self.blocks(x)\n",
    "\n",
    "    x = self.avgpool(x)\n",
    "    x = x.view(x.size(0), -1)  # flatten\n",
    "    x = self.fc(x)\n",
    "\n",
    "    return x\n"
   ]
  },
  {
   "cell_type": "code",
   "execution_count": 56,
   "metadata": {},
   "outputs": [
    {
     "name": "stdout",
     "output_type": "stream",
     "text": [
      "Files already downloaded and verified\n",
      "Files already downloaded and verified\n"
     ]
    }
   ],
   "source": [
    "training_data = datasets.CIFAR10(\n",
    "    root=\"data\",\n",
    "    train=True,\n",
    "    download=True,\n",
    "    transform=ToTensor()\n",
    ")\n",
    "\n",
    "test_data = datasets.CIFAR10(\n",
    "    root=\"data\",\n",
    "    train=False,\n",
    "    download=True,\n",
    "    transform=ToTensor()\n",
    ")"
   ]
  },
  {
   "cell_type": "code",
   "execution_count": 57,
   "metadata": {},
   "outputs": [],
   "source": [
    "def train2d(model, train_loader, loss_func, optimizer):\n",
    "    batch_loss = 0.0\n",
    "    correct = 0\n",
    "    total = 0\n",
    "    model.train()  # Set the model to training mode\n",
    "    for data in train_loader:\n",
    "        inputs, labels = data\n",
    "        inputs, labels = inputs.to(device), labels.to(device)  # Move data to GPU\n",
    "        optimizer.zero_grad()\n",
    "        outputs = model(inputs)\n",
    "        loss = loss_func(outputs, labels)\n",
    "        loss.backward()\n",
    "        optimizer.step()\n",
    "\n",
    "        batch_loss += loss.item()\n",
    "        _, predicted_indices = torch.max(outputs.data, 1)\n",
    "        total += labels.size(0)\n",
    "        correct += (predicted_indices == labels).sum().item()\n",
    "\n",
    "    epoch_loss = batch_loss / len(train_loader.dataset)\n",
    "    epoch_acc = correct / total\n",
    "    return epoch_loss, epoch_acc\n",
    "\n",
    "def validate2d(model, loader, loss_func):\n",
    "    model.eval()  # Set the model to evaluation mode\n",
    "    batch_loss = 0.0\n",
    "    correct = 0\n",
    "    total = 0\n",
    "    with torch.no_grad():\n",
    "        for inputs, labels in loader:\n",
    "            inputs, labels = inputs.to(device), labels.to(device)  # Move data to GPU\n",
    "            outputs = model(inputs)\n",
    "            loss = loss_func(outputs, labels)\n",
    "            batch_loss += loss.item() * inputs.size(0)\n",
    "            _, predicted_indices = torch.max(outputs.data, 1)\n",
    "            total += labels.size(0)\n",
    "            correct += (predicted_indices == labels).sum().item()\n",
    "\n",
    "    epoch_loss = batch_loss / len(loader.dataset)\n",
    "    epoch_acc = correct / total\n",
    "    return epoch_loss, epoch_acc\n"
   ]
  },
  {
   "cell_type": "code",
   "execution_count": 58,
   "metadata": {},
   "outputs": [
    {
     "name": "stdout",
     "output_type": "stream",
     "text": [
      "Epoch 1/10, Train Loss: 0.0135, Train Acc: 0.3545, Val Loss: 1.4700, Val Acc: 0.4536\n",
      "Epoch 2/10, Train Loss: 0.0104, Train Acc: 0.5082, Val Loss: 1.2629, Val Acc: 0.5327\n",
      "Epoch 3/10, Train Loss: 0.0088, Train Acc: 0.5923, Val Loss: 1.0358, Val Acc: 0.6301\n",
      "Epoch 4/10, Train Loss: 0.0076, Train Acc: 0.6541, Val Loss: 0.9682, Val Acc: 0.6488\n",
      "Epoch 5/10, Train Loss: 0.0067, Train Acc: 0.6977, Val Loss: 0.8603, Val Acc: 0.6996\n",
      "Epoch 6/10, Train Loss: 0.0059, Train Acc: 0.7343, Val Loss: 0.7859, Val Acc: 0.7212\n",
      "Epoch 7/10, Train Loss: 0.0054, Train Acc: 0.7602, Val Loss: 0.7422, Val Acc: 0.7449\n",
      "Epoch 8/10, Train Loss: 0.0049, Train Acc: 0.7818, Val Loss: 0.7703, Val Acc: 0.7367\n",
      "Epoch 9/10, Train Loss: 0.0046, Train Acc: 0.7926, Val Loss: 0.7613, Val Acc: 0.7402\n",
      "Epoch 10/10, Train Loss: 0.0042, Train Acc: 0.8142, Val Loss: 0.7929, Val Acc: 0.7258\n"
     ]
    }
   ],
   "source": [
    "# Initialize DataLoader for the test data\n",
    "test_loader = DataLoader(test_data, batch_size=128, shuffle=False)\n",
    "\n",
    "\n",
    "num_epochs = 10\n",
    "train_losses, train_accuracies = [], []\n",
    "val_losses, val_accuracies = [], []\n",
    "\n",
    "\n",
    "model_2d = ResNet_vision(3,10).to(device)\n",
    "\n",
    "loss_func2d = nn.CrossEntropyLoss()\n",
    "optimizer2d = optim.Adam(model_2d.parameters(), lr=0.0003)\n",
    "\n",
    "# Training and validation loops\n",
    "for epoch in range(num_epochs):\n",
    "    train_loader = DataLoader(training_data, batch_size=128, shuffle=True)\n",
    "    train_loss, train_acc = train2d(model_2d, train_loader, loss_func2d, optimizer2d)\n",
    "    val_loss, val_acc = validate2d(model_2d, test_loader, loss_func2d)\n",
    "\n",
    "    train_losses.append(train_loss)\n",
    "    train_accuracies.append(train_acc)\n",
    "    val_losses.append(val_loss)\n",
    "    val_accuracies.append(val_acc)\n",
    "\n",
    "    print(f'Epoch {epoch+1}/{num_epochs}, Train Loss: {train_loss:.4f}, Train Acc: {train_acc:.4f}, Val Loss: {val_loss:.4f}, Val Acc: {val_acc:.4f}')\n"
   ]
  },
  {
   "cell_type": "code",
   "execution_count": 59,
   "metadata": {},
   "outputs": [
    {
     "data": {
      "image/png": "[encoded data removed]",
      "text/plain": [
       "<Figure size 640x480 with 1 Axes>"
      ]
     },
     "metadata": {},
     "output_type": "display_data"
    }
   ],
   "source": [
    "epochs = range(1, num_epochs + 1)\n",
    "plt.plot(epochs, train_accuracies, 'b', label='Train Accuracy')\n",
    "plt.plot(epochs, val_accuracies, 'r', label='Validation Accuracy')\n",
    "plt.title('Train and Validation Accuracies')\n",
    "plt.xlabel('Epochs')\n",
    "plt.ylabel('Accuracy')\n",
    "plt.legend()\n",
    "plt.show()"
   ]
  },
  {
   "cell_type": "code",
   "execution_count": 60,
   "metadata": {},
   "outputs": [],
   "source": [
    "#Saving model parameters\n",
    "torch.save(model_2d.state_dict(), 'ResNET vision.pt')"
   ]
  },
  {
   "cell_type": "code",
   "execution_count": 61,
   "metadata": {},
   "outputs": [
    {
     "data": {
      "text/plain": [
       "<All keys matched successfully>"
      ]
     },
     "execution_count": 61,
     "metadata": {},
     "output_type": "execute_result"
    }
   ],
   "source": [
    "#Loading the trained model parameters\n",
    "model = ResNet_vision(3,10)\n",
    "model.load_state_dict(torch.load('ResNET vision.pt'))"
   ]
  }
 ],
 "metadata": {
  "kernelspec": {
   "display_name": "pytorch_env",
   "language": "python",
   "name": "python3"
  },
  "language_info": {
   "codemirror_mode": {
    "name": "ipython",
    "version": 3
   },
   "file_extension": ".py",
   "mimetype": "text/x-python",
   "name": "python",
   "nbconvert_exporter": "python",
   "pygments_lexer": "ipython3",
   "version": "3.11.5"
  }
 },
 "nbformat": 4,
 "nbformat_minor": 2
}
