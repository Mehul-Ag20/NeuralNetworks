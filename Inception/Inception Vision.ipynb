{
 "cells": [
  {
   "cell_type": "code",
   "execution_count": 72,
   "metadata": {},
   "outputs": [],
   "source": [
    "import torch \n",
    "from torch.utils.data import DataLoader\n",
    "from torchvision import datasets\n",
    "from torchvision.transforms import ToTensor\n",
    "import matplotlib.pyplot as plt\n",
    "from torch import nn\n",
    "import torch.optim as optim"
   ]
  },
  {
   "cell_type": "code",
   "execution_count": 73,
   "metadata": {},
   "outputs": [
    {
     "name": "stdout",
     "output_type": "stream",
     "text": [
      "cuda\n"
     ]
    }
   ],
   "source": [
    "device = torch.device('cuda' if torch.cuda.is_available() else 'cpu')\n",
    "print(device)"
   ]
  },
  {
   "cell_type": "code",
   "execution_count": 74,
   "metadata": {},
   "outputs": [],
   "source": [
    "# Creating CNA -> conv+ batch_norm + relu\n",
    "class CNA(nn.Module):\n",
    "    def __init__(self, in_channels, out_channels, **kwargs):\n",
    "        super(CNA, self).__init__()\n",
    "        self.relu = nn.ReLU()\n",
    "        self.conv = nn.Conv2d(in_channels, out_channels, **kwargs)\n",
    "        self.bn = nn.BatchNorm2d(out_channels)\n",
    "    \n",
    "    def forward(self, x):\n",
    "        return self.relu(self.bn(self.conv(x)))\n",
    "\n",
    "# Creating a modified inception block  \n",
    "class Inception_block(nn.Module):\n",
    "    def __init__(self, in_channels, filterB1_1, filterB2_1, filterB2_2, filterB3_1, filterB3_2, filterB4):\n",
    "        super(Inception_block, self).__init__()\n",
    "\n",
    "        self.branch1 = CNA(in_channels, filterB1_1, kernel_size=1)\n",
    "\n",
    "        self.branch2 = nn.Sequential(\n",
    "            CNA(in_channels, filterB2_1, kernel_size=3, padding=1),\n",
    "            CNA(filterB2_1, filterB2_2, kernel_size=5, padding=2)\n",
    "        )\n",
    "\n",
    "        self.branch3 = nn.Sequential(\n",
    "            CNA(in_channels, filterB3_1, kernel_size=3, padding=1),\n",
    "            CNA(filterB3_1, filterB3_2, kernel_size=5, padding=2)\n",
    "        )\n",
    "\n",
    "        self.branch4 = nn.MaxPool2d(kernel_size=3, stride=1, padding=1)\n",
    "        self.branch4_conv = CNA(in_channels, filterB4, kernel_size=1)\n",
    "\n",
    "    def forward(self, x):\n",
    "        branch1_out = self.branch1(x)\n",
    "        branch2_out = self.branch2(x)\n",
    "        branch3_out = self.branch3(x)\n",
    "        branch4_out = self.branch4_conv(self.branch4(x))\n",
    "        return torch.cat([branch1_out, branch2_out, branch3_out, branch4_out], 1)\n",
    "    \n",
    "# Using 4 inception blocks to make an inception network\n",
    "class Inception_Module_vision(nn.Module):\n",
    "    def __init__(self, in_channels=3, num_classes=10):\n",
    "        super(Inception_Module_vision, self).__init__()\n",
    "\n",
    "        self.inception1 = Inception_block(in_channels, 4, 4, 4, 2, 2, 2)  # output channels = 4 + 4 + 2 + 2 = 12\n",
    "        self.inception2 = Inception_block(12, 8, 8, 8, 4, 4, 4)          # output channels = 8 + 8 + 4 + 4 = 24\n",
    "        self.inception3 = Inception_block(24, 16, 8, 16, 8, 8, 8)        # output channels = 16 + 16 + 8 + 8 = 48\n",
    "        self.inception4 = Inception_block(48, 16, 12, 16, 8, 8, 8)       # output channels = 16 + 16 + 8 + 8 = 48\n",
    "\n",
    "        self.avg_pool = nn.AdaptiveAvgPool2d((1, 1))\n",
    "        self.fc = nn.Linear(48, num_classes)\n",
    "\n",
    "    def forward(self, x):\n",
    "        x = self.inception1(x)\n",
    "        x = self.inception2(x)\n",
    "        x = self.inception3(x)\n",
    "        x = self.inception4(x)\n",
    "        x = self.avg_pool(x)\n",
    "        x = x.view(x.size(0), -1)\n",
    "        x = self.fc(x)\n",
    "        return x\n",
    "\n"
   ]
  },
  {
   "cell_type": "code",
   "execution_count": 75,
   "metadata": {},
   "outputs": [
    {
     "name": "stdout",
     "output_type": "stream",
     "text": [
      "Files already downloaded and verified\n",
      "Files already downloaded and verified\n"
     ]
    }
   ],
   "source": [
    "training_data = datasets.CIFAR10(\n",
    "    root=\"data\",\n",
    "    train=True,\n",
    "    download=True,\n",
    "    transform=ToTensor()\n",
    ")\n",
    "\n",
    "test_data = datasets.CIFAR10(\n",
    "    root=\"data\",\n",
    "    train=False,\n",
    "    download=True,\n",
    "    transform=ToTensor()\n",
    ")"
   ]
  },
  {
   "cell_type": "code",
   "execution_count": 76,
   "metadata": {},
   "outputs": [],
   "source": [
    "def train2d(model, train_loader, loss_func, optimizer):\n",
    "    batch_loss = 0.0\n",
    "    correct = 0\n",
    "    total = 0\n",
    "    model.train()  # Set the model to training mode\n",
    "    for data in train_loader:\n",
    "        inputs, labels = data\n",
    "        inputs, labels = inputs.to(device), labels.to(device)  # Move data to GPU\n",
    "        optimizer.zero_grad()\n",
    "        outputs = model(inputs)\n",
    "        loss = loss_func(outputs, labels)\n",
    "        loss.backward()\n",
    "        optimizer.step()\n",
    "\n",
    "        batch_loss += loss.item()\n",
    "        _, predicted_indices = torch.max(outputs.data, 1)\n",
    "        total += labels.size(0)\n",
    "        correct += (predicted_indices == labels).sum().item()\n",
    "\n",
    "    epoch_loss = batch_loss / len(train_loader.dataset)\n",
    "    epoch_acc = correct / total\n",
    "    return epoch_loss, epoch_acc\n",
    "\n",
    "def validate2d(model, loader, loss_func):\n",
    "    model.eval()  # Set the model to evaluation mode\n",
    "    batch_loss = 0.0\n",
    "    correct = 0\n",
    "    total = 0\n",
    "    with torch.no_grad():\n",
    "        for inputs, labels in loader:\n",
    "            inputs, labels = inputs.to(device), labels.to(device)  # Move data to GPU\n",
    "            outputs = model(inputs)\n",
    "            loss = loss_func(outputs, labels)\n",
    "            batch_loss += loss.item() * inputs.size(0)\n",
    "            _, predicted_indices = torch.max(outputs.data, 1)\n",
    "            total += labels.size(0)\n",
    "            correct += (predicted_indices == labels).sum().item()\n",
    "\n",
    "    epoch_loss = batch_loss / len(loader.dataset)\n",
    "    epoch_acc = correct / total\n",
    "    return epoch_loss, epoch_acc\n"
   ]
  },
  {
   "cell_type": "code",
   "execution_count": 77,
   "metadata": {},
   "outputs": [
    {
     "name": "stdout",
     "output_type": "stream",
     "text": [
      "Epoch 1/20, Train Loss: 0.0144, Train Acc: 0.3376, Val Loss: 1.6273, Val Acc: 0.4046\n",
      "Epoch 2/20, Train Loss: 0.0118, Train Acc: 0.4611, Val Loss: 1.4367, Val Acc: 0.4765\n",
      "Epoch 3/20, Train Loss: 0.0107, Train Acc: 0.5121, Val Loss: 1.3523, Val Acc: 0.5127\n",
      "Epoch 4/20, Train Loss: 0.0100, Train Acc: 0.5488, Val Loss: 1.2365, Val Acc: 0.5538\n",
      "Epoch 5/20, Train Loss: 0.0094, Train Acc: 0.5712, Val Loss: 1.1964, Val Acc: 0.5706\n",
      "Epoch 6/20, Train Loss: 0.0090, Train Acc: 0.5923, Val Loss: 1.1663, Val Acc: 0.5801\n",
      "Epoch 7/20, Train Loss: 0.0087, Train Acc: 0.6071, Val Loss: 1.1761, Val Acc: 0.5748\n",
      "Epoch 8/20, Train Loss: 0.0084, Train Acc: 0.6190, Val Loss: 1.0821, Val Acc: 0.6081\n",
      "Epoch 9/20, Train Loss: 0.0081, Train Acc: 0.6318, Val Loss: 1.0768, Val Acc: 0.6129\n",
      "Epoch 10/20, Train Loss: 0.0080, Train Acc: 0.6398, Val Loss: 1.0275, Val Acc: 0.6353\n",
      "Epoch 11/20, Train Loss: 0.0077, Train Acc: 0.6497, Val Loss: 1.0087, Val Acc: 0.6410\n",
      "Epoch 12/20, Train Loss: 0.0076, Train Acc: 0.6576, Val Loss: 1.0350, Val Acc: 0.6332\n",
      "Epoch 13/20, Train Loss: 0.0074, Train Acc: 0.6677, Val Loss: 0.9939, Val Acc: 0.6458\n",
      "Epoch 14/20, Train Loss: 0.0072, Train Acc: 0.6729, Val Loss: 1.0518, Val Acc: 0.6314\n",
      "Epoch 15/20, Train Loss: 0.0071, Train Acc: 0.6774, Val Loss: 0.9340, Val Acc: 0.6729\n",
      "Epoch 16/20, Train Loss: 0.0070, Train Acc: 0.6839, Val Loss: 0.9434, Val Acc: 0.6620\n",
      "Epoch 17/20, Train Loss: 0.0069, Train Acc: 0.6886, Val Loss: 0.9635, Val Acc: 0.6577\n",
      "Epoch 18/20, Train Loss: 0.0068, Train Acc: 0.6960, Val Loss: 0.9237, Val Acc: 0.6776\n",
      "Epoch 19/20, Train Loss: 0.0067, Train Acc: 0.7014, Val Loss: 0.9756, Val Acc: 0.6534\n",
      "Epoch 20/20, Train Loss: 0.0066, Train Acc: 0.7057, Val Loss: 0.8935, Val Acc: 0.6824\n"
     ]
    }
   ],
   "source": [
    "test_loader = DataLoader(test_data, batch_size=128, shuffle=False)\n",
    "\n",
    "num_epochs = 20\n",
    "train_losses, train_accuracies = [], []\n",
    "val_losses, val_accuracies = [], []\n",
    "\n",
    "model_2d = Inception_Module_vision().to(device=device)\n",
    "loss_func2d = nn.CrossEntropyLoss()\n",
    "optimizer2d = optim.Adam(model_2d.parameters(), lr=0.0003)\n",
    "\n",
    "# Training and validation loops\n",
    "for epoch in range(num_epochs):\n",
    "    train_loader = DataLoader(training_data, batch_size=128, shuffle=True)\n",
    "    train_loss, train_acc = train2d(model_2d, train_loader, loss_func2d, optimizer2d)\n",
    "    val_loss, val_acc = validate2d(model_2d, test_loader, loss_func2d)\n",
    "\n",
    "    train_losses.append(train_loss)\n",
    "    train_accuracies.append(train_acc)\n",
    "    val_losses.append(val_loss)\n",
    "    val_accuracies.append(val_acc)\n",
    "\n",
    "    print(f'Epoch {epoch+1}/{num_epochs}, Train Loss: {train_loss:.4f}, Train Acc: {train_acc:.4f}, Val Loss: {val_loss:.4f}, Val Acc: {val_acc:.4f}')\n"
   ]
  },
  {
   "cell_type": "code",
   "execution_count": 78,
   "metadata": {},
   "outputs": [],
   "source": [
    "#Saving model parameters\n",
    "torch.save(model_2d.state_dict(), 'Inception_vision.pt')"
   ]
  },
  {
   "cell_type": "code",
   "execution_count": 79,
   "metadata": {},
   "outputs": [
    {
     "data": {
      "text/plain": [
       "<All keys matched successfully>"
      ]
     },
     "execution_count": 79,
     "metadata": {},
     "output_type": "execute_result"
    }
   ],
   "source": [
    "#Loading the trained model parameters\n",
    "model = Inception_Module_vision()\n",
    "model.load_state_dict(torch.load('Inception_vision.pt'))"
   ]
  },
  {
   "cell_type": "code",
   "execution_count": 80,
   "metadata": {},
   "outputs": [
    {
     "data": {
      "image/png": "[encoded data removed]",
      "text/plain": [
       "<Figure size 640x480 with 1 Axes>"
      ]
     },
     "metadata": {},
     "output_type": "display_data"
    }
   ],
   "source": [
    "epochs = range(1, num_epochs + 1)\n",
    "plt.plot(epochs, train_accuracies, 'b', label='Train Accuracy')\n",
    "plt.plot(epochs, val_accuracies, 'r', label='Validation Accuracy')\n",
    "plt.title('Train and Validation Accuracies')\n",
    "plt.xlabel('Epochs')\n",
    "plt.ylabel('Accuracy')\n",
    "plt.legend()\n",
    "plt.show()"
   ]
  }
 ],
 "metadata": {
  "kernelspec": {
   "display_name": "base",
   "language": "python",
   "name": "python3"
  },
  "language_info": {
   "codemirror_mode": {
    "name": "ipython",
    "version": 3
   },
   "file_extension": ".py",
   "mimetype": "text/x-python",
   "name": "python",
   "nbconvert_exporter": "python",
   "pygments_lexer": "ipython3",
   "version": "3.11.5"
  }
 },
 "nbformat": 4,
 "nbformat_minor": 2
}
