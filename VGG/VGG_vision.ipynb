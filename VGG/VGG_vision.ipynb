{
 "cells": [
  {
   "cell_type": "code",
   "execution_count": 109,
   "metadata": {},
   "outputs": [],
   "source": [
    "import numpy as np\n",
    "import  torch\n",
    "from torch.utils.data import DataLoader, Dataset\n",
    "from torchvision import datasets\n",
    "from torchvision.transforms import ToTensor\n",
    "import matplotlib.pyplot as plt\n",
    "from torch import nn\n",
    "import torch.optim as optim\n",
    "import math"
   ]
  },
  {
   "cell_type": "code",
   "execution_count": 110,
   "metadata": {},
   "outputs": [
    {
     "name": "stdout",
     "output_type": "stream",
     "text": [
      "cuda\n"
     ]
    }
   ],
   "source": [
    "device = torch.device(\"cuda\" if torch.cuda.is_available() else \"cpu\")\n",
    "print(device)"
   ]
  },
  {
   "cell_type": "code",
   "execution_count": 111,
   "metadata": {},
   "outputs": [],
   "source": [
    "class VGG_vision(nn.Module):\n",
    "    def __init__(self,in_channel=3,num_classes=10, stride=1,channel_factor=0.65, kernel_factor=1.25):\n",
    "        super(VGG_vision,self).__init__()\n",
    "        self.in_channel = in_channel\n",
    "        self.channel_fctor = channel_factor\n",
    "        self.kernel_factor = kernel_factor\n",
    "\n",
    "        self.conv1 = nn.Sequential(\n",
    "            nn.Conv2d(in_channel,128,kernel_size=1, stride=stride, padding=0),\n",
    "            nn.Conv2d(128,128,kernel_size=1, stride=stride, padding=0),\n",
    "            nn.MaxPool2d(kernel_size=2,stride=2)\n",
    "        )\n",
    "\n",
    "        in_channel = 128\n",
    "        out_channel = math.ceil(in_channel*channel_factor)\n",
    "        temp = kernel_factor\n",
    "        kernels = math.ceil(temp)\n",
    "        self.conv2 = nn.Sequential(\n",
    "            nn.Conv2d(in_channel,out_channel,kernel_size=kernels, stride=stride, padding=1),\n",
    "            nn.Conv2d(out_channel,out_channel,kernel_size=kernels, stride=stride, padding=1),\n",
    "            nn.MaxPool2d(kernel_size=2,stride=2)\n",
    "        )\n",
    "\n",
    "        in_channel = out_channel\n",
    "        out_channel = math.ceil(in_channel*channel_factor)\n",
    "        temp = temp * kernel_factor\n",
    "        kernels = math.ceil(temp)\n",
    "        self.conv3 = nn.Sequential(\n",
    "            nn.Conv2d(in_channel,out_channel,kernel_size=kernels, stride=stride, padding=1),\n",
    "            nn.Conv2d(out_channel,out_channel,kernel_size=kernels, stride=stride, padding=1),\n",
    "            nn.Conv2d(out_channel,out_channel,kernel_size=kernels, stride=stride, padding=1),\n",
    "            nn.MaxPool2d(kernel_size=2,stride=2)\n",
    "        )\n",
    "        in_channel = out_channel\n",
    "        out_channel = math.ceil(in_channel*channel_factor)\n",
    "        temp = temp * kernel_factor\n",
    "        kernels = math.ceil(temp)\n",
    "        self.conv4 = nn.Sequential(\n",
    "            nn.Conv2d(in_channel,out_channel,kernel_size=kernels, stride=stride, padding=1),\n",
    "            nn.Conv2d(out_channel,out_channel,kernel_size=kernels, stride=stride, padding=1),\n",
    "            nn.Conv2d(out_channel,out_channel,kernel_size=kernels, stride=stride, padding=1),\n",
    "            nn.MaxPool2d(kernel_size=2,stride=2)\n",
    "        )\n",
    "        in_channel = out_channel\n",
    "        out_channel = math.ceil(in_channel*channel_factor)\n",
    "        temp = temp * kernel_factor\n",
    "        kernels = math.ceil(temp)\n",
    "        self.conv5 = nn.Sequential(\n",
    "            nn.Conv2d(in_channel,out_channel,kernel_size=kernels, stride=stride, padding=1),\n",
    "            nn.Conv2d(out_channel,out_channel,kernel_size=kernels, stride=stride, padding=1),\n",
    "            nn.Conv2d(out_channel,out_channel,kernel_size=kernels, stride=stride, padding=1),\n",
    "            nn.MaxPool2d(kernel_size=2,stride=2)\n",
    "        )\n",
    "        self.dense = nn.Sequential(\n",
    "            nn.Linear(out_channel*4, 4096),\n",
    "            nn.Linear(4096, 4096),\n",
    "            nn.Linear(4096, num_classes)\n",
    "        )\n",
    "    def forward(self,x):\n",
    "        x = self.conv1(x)\n",
    "        x = self.conv2(x)\n",
    "        x = self.conv3(x)\n",
    "        x = self.conv4(x)\n",
    "        x = self.conv5(x)\n",
    "        x = x.view(x.size(0),-1)\n",
    "        x = self.dense(x)\n",
    "        return x\n",
    "    "
   ]
  },
  {
   "cell_type": "code",
   "execution_count": 112,
   "metadata": {},
   "outputs": [
    {
     "name": "stdout",
     "output_type": "stream",
     "text": [
      "Files already downloaded and verified\n",
      "Files already downloaded and verified\n"
     ]
    }
   ],
   "source": [
    "training_data = datasets.CIFAR10(\n",
    "    root=\"data\",\n",
    "    train=True,\n",
    "    download=True,\n",
    "    transform=ToTensor()\n",
    ")\n",
    "\n",
    "test_data = datasets.CIFAR10(\n",
    "    root=\"data\",\n",
    "    train=False,\n",
    "    download=True,\n",
    "    transform=ToTensor()\n",
    ")"
   ]
  },
  {
   "cell_type": "code",
   "execution_count": 113,
   "metadata": {},
   "outputs": [],
   "source": [
    "def train2d(model, train_loader, loss_func, optimizer):\n",
    "    batch_loss = 0.0\n",
    "    correct = 0\n",
    "    total = 0\n",
    "    model.train()  # Set the model to training mode\n",
    "    for data in train_loader:\n",
    "        inputs, labels = data\n",
    "        inputs, labels = inputs.to(device), labels.to(device)  # Move data to GPU\n",
    "        optimizer.zero_grad()\n",
    "        outputs = model(inputs)\n",
    "        loss = loss_func(outputs, labels)\n",
    "        loss.backward()\n",
    "        optimizer.step()\n",
    "\n",
    "        batch_loss += loss.item()\n",
    "        _, predicted_indices = torch.max(outputs.data, 1)\n",
    "        total += labels.size(0)\n",
    "        correct += (predicted_indices == labels).sum().item()\n",
    "\n",
    "    epoch_loss = batch_loss / len(train_loader.dataset)\n",
    "    epoch_acc = correct / total\n",
    "    return epoch_loss, epoch_acc\n",
    "\n",
    "def validate2d(model, loader, loss_func):\n",
    "    model.eval()  # Set the model to evaluation mode\n",
    "    batch_loss = 0.0\n",
    "    correct = 0\n",
    "    total = 0\n",
    "    with torch.no_grad():\n",
    "        for inputs, labels in loader:\n",
    "            inputs, labels = inputs.to(device), labels.to(device)  # Move data to GPU\n",
    "            outputs = model(inputs)\n",
    "            loss = loss_func(outputs, labels)\n",
    "            batch_loss += loss.item() * inputs.size(0)\n",
    "            _, predicted_indices = torch.max(outputs.data, 1)\n",
    "            total += labels.size(0)\n",
    "            correct += (predicted_indices == labels).sum().item()\n",
    "\n",
    "    epoch_loss = batch_loss / len(loader.dataset)\n",
    "    epoch_acc = correct / total\n",
    "    return epoch_loss, epoch_acc\n"
   ]
  },
  {
   "cell_type": "code",
   "execution_count": 114,
   "metadata": {},
   "outputs": [
    {
     "name": "stdout",
     "output_type": "stream",
     "text": [
      "Epoch 1/25, Train Loss: 0.0152, Train Acc: 0.2734, Val Loss: 1.6187, Val Acc: 0.4142\n",
      "Epoch 2/25, Train Loss: 0.0118, Train Acc: 0.4491, Val Loss: 1.4315, Val Acc: 0.4764\n",
      "Epoch 3/25, Train Loss: 0.0104, Train Acc: 0.5233, Val Loss: 1.3194, Val Acc: 0.5256\n",
      "Epoch 4/25, Train Loss: 0.0094, Train Acc: 0.5675, Val Loss: 1.1924, Val Acc: 0.5679\n",
      "Epoch 5/25, Train Loss: 0.0088, Train Acc: 0.5997, Val Loss: 1.1454, Val Acc: 0.5860\n",
      "Epoch 6/25, Train Loss: 0.0083, Train Acc: 0.6225, Val Loss: 1.1195, Val Acc: 0.6062\n",
      "Epoch 7/25, Train Loss: 0.0078, Train Acc: 0.6415, Val Loss: 1.0584, Val Acc: 0.6254\n",
      "Epoch 8/25, Train Loss: 0.0075, Train Acc: 0.6570, Val Loss: 1.0428, Val Acc: 0.6303\n",
      "Epoch 9/25, Train Loss: 0.0072, Train Acc: 0.6735, Val Loss: 1.0140, Val Acc: 0.6458\n",
      "Epoch 10/25, Train Loss: 0.0069, Train Acc: 0.6864, Val Loss: 0.9940, Val Acc: 0.6526\n",
      "Epoch 11/25, Train Loss: 0.0067, Train Acc: 0.6970, Val Loss: 0.9777, Val Acc: 0.6545\n",
      "Epoch 12/25, Train Loss: 0.0064, Train Acc: 0.7082, Val Loss: 0.9708, Val Acc: 0.6597\n",
      "Epoch 13/25, Train Loss: 0.0062, Train Acc: 0.7158, Val Loss: 0.9931, Val Acc: 0.6620\n",
      "Epoch 14/25, Train Loss: 0.0060, Train Acc: 0.7280, Val Loss: 0.9691, Val Acc: 0.6704\n",
      "Epoch 15/25, Train Loss: 0.0058, Train Acc: 0.7353, Val Loss: 0.9843, Val Acc: 0.6667\n",
      "Epoch 16/25, Train Loss: 0.0056, Train Acc: 0.7434, Val Loss: 0.9514, Val Acc: 0.6745\n",
      "Epoch 17/25, Train Loss: 0.0055, Train Acc: 0.7483, Val Loss: 0.9908, Val Acc: 0.6691\n",
      "Epoch 18/25, Train Loss: 0.0053, Train Acc: 0.7578, Val Loss: 0.9697, Val Acc: 0.6770\n",
      "Epoch 19/25, Train Loss: 0.0052, Train Acc: 0.7626, Val Loss: 0.9654, Val Acc: 0.6802\n",
      "Epoch 20/25, Train Loss: 0.0050, Train Acc: 0.7714, Val Loss: 0.9690, Val Acc: 0.6801\n",
      "Epoch 21/25, Train Loss: 0.0049, Train Acc: 0.7746, Val Loss: 0.9816, Val Acc: 0.6829\n",
      "Epoch 22/25, Train Loss: 0.0048, Train Acc: 0.7817, Val Loss: 0.9926, Val Acc: 0.6803\n",
      "Epoch 23/25, Train Loss: 0.0046, Train Acc: 0.7870, Val Loss: 0.9925, Val Acc: 0.6788\n",
      "Epoch 24/25, Train Loss: 0.0045, Train Acc: 0.7940, Val Loss: 0.9834, Val Acc: 0.6856\n",
      "Epoch 25/25, Train Loss: 0.0044, Train Acc: 0.7981, Val Loss: 1.0386, Val Acc: 0.6645\n"
     ]
    }
   ],
   "source": [
    "test_loader = DataLoader(test_data, batch_size=128, shuffle=False)\n",
    "\n",
    "num_epochs = 25\n",
    "train_losses, train_accuracies = [], []\n",
    "val_losses, val_accuracies = [], []\n",
    "\n",
    "model_2d = VGG_vision().to(device=device)\n",
    "loss_func2d = nn.CrossEntropyLoss()\n",
    "optimizer2d = optim.Adam(model_2d.parameters(), lr=0.0003)\n",
    "\n",
    "# Training and validation loops\n",
    "for epoch in range(num_epochs):\n",
    "    train_loader = DataLoader(training_data, batch_size=128, shuffle=True)\n",
    "    train_loss, train_acc = train2d(model_2d, train_loader, loss_func2d, optimizer2d)\n",
    "    val_loss, val_acc = validate2d(model_2d, test_loader, loss_func2d)\n",
    "\n",
    "    train_losses.append(train_loss)\n",
    "    train_accuracies.append(train_acc)\n",
    "    val_losses.append(val_loss)\n",
    "    val_accuracies.append(val_acc)\n",
    "\n",
    "    print(f'Epoch {epoch+1}/{num_epochs}, Train Loss: {train_loss:.4f}, Train Acc: {train_acc:.4f}, Val Loss: {val_loss:.4f}, Val Acc: {val_acc:.4f}')\n"
   ]
  },
  {
   "cell_type": "code",
   "execution_count": 115,
   "metadata": {},
   "outputs": [],
   "source": [
    "#Saving model parameters\n",
    "torch.save(model_2d.state_dict(), 'VGG_vision.pt')"
   ]
  },
  {
   "cell_type": "code",
   "execution_count": 116,
   "metadata": {},
   "outputs": [
    {
     "data": {
      "text/plain": [
       "<All keys matched successfully>"
      ]
     },
     "execution_count": 116,
     "metadata": {},
     "output_type": "execute_result"
    }
   ],
   "source": [
    "#Loading the trained model parameters\n",
    "model = VGG_vision()\n",
    "model.load_state_dict(torch.load('VGG_vision.pt'))"
   ]
  },
  {
   "cell_type": "code",
   "execution_count": 117,
   "metadata": {},
   "outputs": [
    {
     "data": {
      "image/png": "[encoded data removed]",
      "text/plain": [
       "<Figure size 640x480 with 1 Axes>"
      ]
     },
     "metadata": {},
     "output_type": "display_data"
    }
   ],
   "source": [
    "epochs = range(1, num_epochs + 1)\n",
    "plt.plot(epochs, train_accuracies, 'b', label='Train Accuracy')\n",
    "plt.plot(epochs, val_accuracies, 'r', label='Validation Accuracy')\n",
    "plt.title('Train and Validation Accuracies')\n",
    "plt.xlabel('Epochs')\n",
    "plt.ylabel('Accuracy')\n",
    "plt.legend()\n",
    "plt.show()"
   ]
  }
 ],
 "metadata": {
  "kernelspec": {
   "display_name": "pytorch_env",
   "language": "python",
   "name": "python3"
  },
  "language_info": {
   "codemirror_mode": {
    "name": "ipython",
    "version": 3
   },
   "file_extension": ".py",
   "mimetype": "text/x-python",
   "name": "python",
   "nbconvert_exporter": "python",
   "pygments_lexer": "ipython3",
   "version": "3.11.5"
  }
 },
 "nbformat": 4,
 "nbformat_minor": 2
}
