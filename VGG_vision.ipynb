{
 "cells": [
  {
   "cell_type": "code",
   "execution_count": 17,
   "metadata": {},
   "outputs": [],
   "source": [
    "import numpy as np\n",
    "import  torch\n",
    "from torch.utils.data import DataLoader, Dataset\n",
    "from torchvision import datasets\n",
    "from torchvision.transforms import ToTensor\n",
    "import matplotlib.pyplot as plt\n",
    "from torch import nn\n",
    "import torch.optim as optim\n",
    "import math"
   ]
  },
  {
   "cell_type": "code",
   "execution_count": 18,
   "metadata": {},
   "outputs": [
    {
     "name": "stdout",
     "output_type": "stream",
     "text": [
      "cuda\n"
     ]
    }
   ],
   "source": [
    "device = torch.device(\"cuda\" if torch.cuda.is_available() else \"cpu\")\n",
    "print(device)"
   ]
  },
  {
   "cell_type": "code",
   "execution_count": 19,
   "metadata": {},
   "outputs": [],
   "source": [
    "class VGG_vision(nn.Module):\n",
    "    def __init__(self,in_channel=3,num_classes=10, stride=1, padding=1,channel_factor=0.65, kernel_factor=1.25):\n",
    "        super(VGG_vision,self).__init__()\n",
    "        self.in_channel = in_channel\n",
    "        self.channel_fctor = channel_factor\n",
    "        self.kernel_factor = kernel_factor\n",
    "\n",
    "        self.conv1 = nn.Sequential(\n",
    "            nn.Conv2d(in_channel,128,kernel_size=3, stride=stride, padding=padding),\n",
    "            nn.Conv2d(128,128,kernel_size=3, stride=stride, padding=padding),\n",
    "            nn.MaxPool2d(kernel_size=2,stride=2)\n",
    "        )\n",
    "\n",
    "        in_channel = 128\n",
    "        out_channel = int(in_channel*channel_factor)\n",
    "        kernels = int(3*kernel_factor)\n",
    "        self.conv2 = nn.Sequential(\n",
    "            nn.Conv2d(in_channel,out_channel,kernel_size=kernels, stride=stride, padding=padding),\n",
    "            nn.Conv2d(out_channel,out_channel,kernel_size=kernels, stride=stride, padding=padding),\n",
    "            nn.MaxPool2d(kernel_size=2,stride=2)\n",
    "        )\n",
    "\n",
    "        in_channel = out_channel\n",
    "        out_channel = int(in_channel*channel_factor)\n",
    "        kernels = int(kernels*kernel_factor)\n",
    "        self.conv3 = nn.Sequential(\n",
    "            nn.Conv2d(in_channel,out_channel,kernel_size=kernels, stride=stride, padding=padding),\n",
    "            nn.Conv2d(out_channel,out_channel,kernel_size=kernels, stride=stride, padding=padding),\n",
    "            nn.Conv2d(out_channel,out_channel,kernel_size=kernels, stride=stride, padding=padding),\n",
    "            nn.MaxPool2d(kernel_size=2,stride=2)\n",
    "        )\n",
    "        in_channel = out_channel\n",
    "        out_channel = int(in_channel*channel_factor)\n",
    "        kernels = int(kernels*kernel_factor)\n",
    "        self.conv4 = nn.Sequential(\n",
    "            nn.Conv2d(in_channel,out_channel,kernel_size=kernels, stride=stride, padding=padding),\n",
    "            nn.Conv2d(out_channel,out_channel,kernel_size=kernels, stride=stride, padding=padding),\n",
    "            nn.Conv2d(out_channel,out_channel,kernel_size=kernels, stride=stride, padding=padding),\n",
    "            nn.MaxPool2d(kernel_size=2,stride=2)\n",
    "        )\n",
    "        in_channel = out_channel\n",
    "        out_channel = int(in_channel*channel_factor)\n",
    "        kernels = int(kernels*kernel_factor)\n",
    "        self.conv5 = nn.Sequential(\n",
    "            nn.Conv2d(in_channel,out_channel,kernel_size=kernels, stride=stride, padding=padding),\n",
    "            nn.Conv2d(out_channel,out_channel,kernel_size=kernels, stride=stride, padding=padding),\n",
    "            nn.Conv2d(out_channel,out_channel,kernel_size=kernels, stride=stride, padding=padding),\n",
    "            nn.MaxPool2d(kernel_size=2,stride=2)\n",
    "        )\n",
    "        self.dense = nn.Sequential(\n",
    "            nn.Linear(out_channel, 4096),\n",
    "            nn.Linear(4096, 4096),\n",
    "            nn.Linear(4096, num_classes)\n",
    "        )\n",
    "    def forward(self,x):\n",
    "        x = self.conv1(x)\n",
    "        x = self.conv2(x)\n",
    "        x = self.conv3(x)\n",
    "        x = self.conv4(x)\n",
    "        x = self.conv5(x)\n",
    "        x = x.view(x.size(0),-1)\n",
    "        x = self.dense(x)\n",
    "        return x\n",
    "    "
   ]
  },
  {
   "cell_type": "code",
   "execution_count": 20,
   "metadata": {},
   "outputs": [
    {
     "name": "stdout",
     "output_type": "stream",
     "text": [
      "Files already downloaded and verified\n",
      "Files already downloaded and verified\n"
     ]
    }
   ],
   "source": [
    "training_data = datasets.CIFAR10(\n",
    "    root=\"data\",\n",
    "    train=True,\n",
    "    download=True,\n",
    "    transform=ToTensor()\n",
    ")\n",
    "\n",
    "test_data = datasets.CIFAR10(\n",
    "    root=\"data\",\n",
    "    train=False,\n",
    "    download=True,\n",
    "    transform=ToTensor()\n",
    ")"
   ]
  },
  {
   "cell_type": "code",
   "execution_count": 21,
   "metadata": {},
   "outputs": [],
   "source": [
    "def train2d(model, train_loader, loss_func, optimizer):\n",
    "    batch_loss = 0.0\n",
    "    correct = 0\n",
    "    total = 0\n",
    "    model.train()  # Set the model to training mode\n",
    "    for data in train_loader:\n",
    "        inputs, labels = data\n",
    "        inputs, labels = inputs.to(device), labels.to(device)  # Move data to GPU\n",
    "        optimizer.zero_grad()\n",
    "        outputs = model(inputs)\n",
    "        loss = loss_func(outputs, labels)\n",
    "        loss.backward()\n",
    "        optimizer.step()\n",
    "\n",
    "        batch_loss += loss.item()\n",
    "        _, predicted_indices = torch.max(outputs.data, 1)\n",
    "        total += labels.size(0)\n",
    "        correct += (predicted_indices == labels).sum().item()\n",
    "\n",
    "    epoch_loss = batch_loss / len(train_loader.dataset)\n",
    "    epoch_acc = correct / total\n",
    "    return epoch_loss, epoch_acc\n",
    "\n",
    "def validate2d(model, loader, loss_func):\n",
    "    model.eval()  # Set the model to evaluation mode\n",
    "    batch_loss = 0.0\n",
    "    correct = 0\n",
    "    total = 0\n",
    "    with torch.no_grad():\n",
    "        for inputs, labels in loader:\n",
    "            inputs, labels = inputs.to(device), labels.to(device)  # Move data to GPU\n",
    "            outputs = model(inputs)\n",
    "            loss = loss_func(outputs, labels)\n",
    "            batch_loss += loss.item() * inputs.size(0)\n",
    "            _, predicted_indices = torch.max(outputs.data, 1)\n",
    "            total += labels.size(0)\n",
    "            correct += (predicted_indices == labels).sum().item()\n",
    "\n",
    "    epoch_loss = batch_loss / len(loader.dataset)\n",
    "    epoch_acc = correct / total\n",
    "    return epoch_loss, epoch_acc\n"
   ]
  },
  {
   "cell_type": "code",
   "execution_count": 22,
   "metadata": {},
   "outputs": [
    {
     "name": "stdout",
     "output_type": "stream",
     "text": [
      "Epoch 1/30, Train Loss: 0.0149, Train Acc: 0.2810, Val Loss: 1.6000, Val Acc: 0.4072\n",
      "Epoch 2/30, Train Loss: 0.0116, Train Acc: 0.4574, Val Loss: 1.4276, Val Acc: 0.4892\n",
      "Epoch 3/30, Train Loss: 0.0097, Train Acc: 0.5520, Val Loss: 1.1741, Val Acc: 0.5691\n",
      "Epoch 4/30, Train Loss: 0.0085, Train Acc: 0.6119, Val Loss: 1.0401, Val Acc: 0.6388\n",
      "Epoch 5/30, Train Loss: 0.0076, Train Acc: 0.6549, Val Loss: 1.0035, Val Acc: 0.6504\n",
      "Epoch 6/30, Train Loss: 0.0069, Train Acc: 0.6875, Val Loss: 0.9481, Val Acc: 0.6680\n",
      "Epoch 7/30, Train Loss: 0.0064, Train Acc: 0.7131, Val Loss: 0.9162, Val Acc: 0.6895\n",
      "Epoch 8/30, Train Loss: 0.0059, Train Acc: 0.7340, Val Loss: 0.9388, Val Acc: 0.6826\n",
      "Epoch 9/30, Train Loss: 0.0055, Train Acc: 0.7533, Val Loss: 0.8366, Val Acc: 0.7238\n",
      "Epoch 10/30, Train Loss: 0.0052, Train Acc: 0.7658, Val Loss: 0.8467, Val Acc: 0.7159\n",
      "Epoch 11/30, Train Loss: 0.0049, Train Acc: 0.7807, Val Loss: 0.8279, Val Acc: 0.7242\n",
      "Epoch 12/30, Train Loss: 0.0046, Train Acc: 0.7927, Val Loss: 0.8496, Val Acc: 0.7177\n",
      "Epoch 13/30, Train Loss: 0.0043, Train Acc: 0.8075, Val Loss: 0.8322, Val Acc: 0.7249\n",
      "Epoch 14/30, Train Loss: 0.0041, Train Acc: 0.8190, Val Loss: 0.8210, Val Acc: 0.7329\n",
      "Epoch 15/30, Train Loss: 0.0038, Train Acc: 0.8260, Val Loss: 0.8763, Val Acc: 0.7311\n",
      "Epoch 16/30, Train Loss: 0.0036, Train Acc: 0.8378, Val Loss: 0.8644, Val Acc: 0.7324\n",
      "Epoch 17/30, Train Loss: 0.0034, Train Acc: 0.8439, Val Loss: 0.8456, Val Acc: 0.7422\n",
      "Epoch 18/30, Train Loss: 0.0032, Train Acc: 0.8542, Val Loss: 0.8886, Val Acc: 0.7391\n",
      "Epoch 19/30, Train Loss: 0.0031, Train Acc: 0.8618, Val Loss: 0.9026, Val Acc: 0.7318\n",
      "Epoch 20/30, Train Loss: 0.0028, Train Acc: 0.8722, Val Loss: 0.9068, Val Acc: 0.7425\n",
      "Epoch 21/30, Train Loss: 0.0027, Train Acc: 0.8790, Val Loss: 0.9195, Val Acc: 0.7392\n",
      "Epoch 22/30, Train Loss: 0.0025, Train Acc: 0.8822, Val Loss: 0.9586, Val Acc: 0.7415\n",
      "Epoch 23/30, Train Loss: 0.0024, Train Acc: 0.8911, Val Loss: 0.9528, Val Acc: 0.7387\n",
      "Epoch 24/30, Train Loss: 0.0023, Train Acc: 0.8953, Val Loss: 0.9794, Val Acc: 0.7368\n",
      "Epoch 25/30, Train Loss: 0.0021, Train Acc: 0.9031, Val Loss: 1.0305, Val Acc: 0.7409\n",
      "Epoch 26/30, Train Loss: 0.0020, Train Acc: 0.9068, Val Loss: 1.0565, Val Acc: 0.7413\n",
      "Epoch 27/30, Train Loss: 0.0019, Train Acc: 0.9109, Val Loss: 1.0787, Val Acc: 0.7344\n",
      "Epoch 28/30, Train Loss: 0.0018, Train Acc: 0.9181, Val Loss: 1.1116, Val Acc: 0.7349\n",
      "Epoch 29/30, Train Loss: 0.0018, Train Acc: 0.9184, Val Loss: 1.1514, Val Acc: 0.7364\n",
      "Epoch 30/30, Train Loss: 0.0017, Train Acc: 0.9235, Val Loss: 1.1450, Val Acc: 0.7262\n"
     ]
    }
   ],
   "source": [
    "test_loader = DataLoader(test_data, batch_size=128, shuffle=False)\n",
    "\n",
    "num_epochs = 20\n",
    "train_losses, train_accuracies = [], []\n",
    "val_losses, val_accuracies = [], []\n",
    "\n",
    "model_2d = VGG_vision().to(device=device)\n",
    "loss_func2d = nn.CrossEntropyLoss()\n",
    "optimizer2d = optim.Adam(model_2d.parameters(), lr=0.0003)\n",
    "\n",
    "# Training and validation loops\n",
    "for epoch in range(num_epochs):\n",
    "    train_loader = DataLoader(training_data, batch_size=128, shuffle=True)\n",
    "    train_loss, train_acc = train2d(model_2d, train_loader, loss_func2d, optimizer2d)\n",
    "    val_loss, val_acc = validate2d(model_2d, test_loader, loss_func2d)\n",
    "\n",
    "    train_losses.append(train_loss)\n",
    "    train_accuracies.append(train_acc)\n",
    "    val_losses.append(val_loss)\n",
    "    val_accuracies.append(val_acc)\n",
    "\n",
    "    print(f'Epoch {epoch+1}/{num_epochs}, Train Loss: {train_loss:.4f}, Train Acc: {train_acc:.4f}, Val Loss: {val_loss:.4f}, Val Acc: {val_acc:.4f}')\n"
   ]
  },
  {
   "cell_type": "code",
   "execution_count": 1,
   "metadata": {},
   "outputs": [
    {
     "ename": "NameError",
     "evalue": "name 'torch' is not defined",
     "output_type": "error",
     "traceback": [
      "\u001b[1;31m---------------------------------------------------------------------------\u001b[0m",
      "\u001b[1;31mNameError\u001b[0m                                 Traceback (most recent call last)",
      "Cell \u001b[1;32mIn[1], line 2\u001b[0m\n\u001b[0;32m      1\u001b[0m \u001b[38;5;66;03m#Saving model parameters\u001b[39;00m\n\u001b[1;32m----> 2\u001b[0m torch\u001b[38;5;241m.\u001b[39msave(model_2d\u001b[38;5;241m.\u001b[39mstate_dict(), \u001b[38;5;124m'\u001b[39m\u001b[38;5;124mVGG_vision.pt\u001b[39m\u001b[38;5;124m'\u001b[39m)\n",
      "\u001b[1;31mNameError\u001b[0m: name 'torch' is not defined"
     ]
    }
   ],
   "source": [
    "#Saving model parameters\n",
    "torch.save(model_2d.state_dict(), 'VGG_vision.pt')"
   ]
  },
  {
   "cell_type": "code",
   "execution_count": null,
   "metadata": {},
   "outputs": [],
   "source": [
    "#Loading the trained model parameters\n",
    "model = VGG_vision()\n",
    "model.load_state_dict(torch.load('VGG_vision.pt'))"
   ]
  },
  {
   "cell_type": "code",
   "execution_count": 23,
   "metadata": {},
   "outputs": [
    {
     "data": {
      "image/png": "[encoded data removed]",
      "text/plain": [
       "<Figure size 640x480 with 1 Axes>"
      ]
     },
     "metadata": {},
     "output_type": "display_data"
    }
   ],
   "source": [
    "epochs = range(1, num_epochs + 1)\n",
    "plt.plot(epochs, train_accuracies, 'b', label='Train Accuracy')\n",
    "plt.plot(epochs, val_accuracies, 'r', label='Validation Accuracy')\n",
    "plt.title('Train and Validation Accuracies')\n",
    "plt.xlabel('Epochs')\n",
    "plt.ylabel('Accuracy')\n",
    "plt.legend()\n",
    "plt.show()"
   ]
  }
 ],
 "metadata": {
  "kernelspec": {
   "display_name": "pytorch_env",
   "language": "python",
   "name": "python3"
  },
  "language_info": {
   "codemirror_mode": {
    "name": "ipython",
    "version": 3
   },
   "file_extension": ".py",
   "mimetype": "text/x-python",
   "name": "python",
   "nbconvert_exporter": "python",
   "pygments_lexer": "ipython3",
   "version": "3.11.5"
  }
 },
 "nbformat": 4,
 "nbformat_minor": 2
}
